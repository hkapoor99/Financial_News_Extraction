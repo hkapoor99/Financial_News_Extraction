{
 "cells": [
  {
   "cell_type": "code",
   "execution_count": 1,
   "metadata": {},
   "outputs": [],
   "source": [
    "import requests\n",
    "from bs4 import BeautifulSoup\n",
    "import pandas as pd\n",
    "import spacy\n",
    "from tqdm import tqdm\n",
    "import numpy as np\n",
    "import pandas as pd\n",
    "from datetime import datetime\n",
    "import time"
   ]
  },
  {
   "cell_type": "code",
   "execution_count": 42,
   "metadata": {},
   "outputs": [],
   "source": [
    "url = 'https://www.business-standard.com/category/finance-news-10301.htm/200'\n",
    "\n",
    "response = requests.get(url)"
   ]
  },
  {
   "cell_type": "code",
   "execution_count": 43,
   "metadata": {},
   "outputs": [],
   "source": [
    "pg = response.content\n",
    "bs_test = BeautifulSoup(pg, \"html5lib\")"
   ]
  },
  {
   "cell_type": "code",
   "execution_count": 35,
   "metadata": {},
   "outputs": [
    {
     "data": {
      "text/plain": [
       "'May 19, 2020, Tuesday'"
      ]
     },
     "execution_count": 35,
     "metadata": {},
     "output_type": "execute_result"
    }
   ],
   "source": [
    "bs_test.find_all(\"div\", {\"class\":\"listing-txt\"})[2].find_all(\"p\")[0].text"
   ]
  },
  {
   "cell_type": "code",
   "execution_count": 36,
   "metadata": {},
   "outputs": [
    {
     "data": {
      "text/plain": [
       "'Moratorium to strain NBFC liquidity even further, bad debts to rise'"
      ]
     },
     "execution_count": 36,
     "metadata": {},
     "output_type": "execute_result"
    }
   ],
   "source": [
    "bs_test.find_all(\"div\", {\"class\":\"listing-txt\"})[2].find_all(\"h2\")[0].text"
   ]
  },
  {
   "cell_type": "code",
   "execution_count": 37,
   "metadata": {},
   "outputs": [
    {
     "data": {
      "text/plain": [
       "'These firms operate with very little short-term liquidity, which can become even more strained as customers start defaulting even ...'"
      ]
     },
     "execution_count": 37,
     "metadata": {},
     "output_type": "execute_result"
    }
   ],
   "source": [
    "bs_test.find_all(\"div\", {\"class\":\"listing-txt\"})[2].find_all(\"p\")[1].text"
   ]
  },
  {
   "cell_type": "code",
   "execution_count": 44,
   "metadata": {},
   "outputs": [
    {
     "data": {
      "text/plain": [
       "20"
      ]
     },
     "execution_count": 44,
     "metadata": {},
     "output_type": "execute_result"
    }
   ],
   "source": [
    "len(bs_test.find_all(\"div\", {\"class\":\"listing-txt\"}))"
   ]
  },
  {
   "cell_type": "code",
   "execution_count": 50,
   "metadata": {},
   "outputs": [],
   "source": [
    "Date = []\n",
    "Title = []\n",
    "Description = []\n",
    "\n",
    "for i in range(1, 2501):\n",
    "    url = \"https://www.business-standard.com/category/finance-news-10301.htm/\" + str(i)\n",
    "    response = requests.get(url)\n",
    "    pg = response.content\n",
    "    bs_test = BeautifulSoup(pg, \"html5lib\")\n",
    "    for j in range(0,20):\n",
    "        Date.append(bs_test.find_all(\"div\", {\"class\":\"listing-txt\"})[j].find_all(\"p\")[0].text)\n",
    "        Title.append(bs_test.find_all(\"div\", {\"class\":\"listing-txt\"})[j].find_all(\"h2\")[0].text)\n",
    "        Description.append(bs_test.find_all(\"div\", {\"class\":\"listing-txt\"})[j].find_all(\"p\")[1].text)"
   ]
  },
  {
   "cell_type": "code",
   "execution_count": 51,
   "metadata": {},
   "outputs": [
    {
     "name": "stdout",
     "output_type": "stream",
     "text": [
      "50000\n",
      "50000\n",
      "50000\n"
     ]
    }
   ],
   "source": [
    "print(len(Date))\n",
    "print(len(Title))\n",
    "print(len(Description))"
   ]
  },
  {
   "cell_type": "code",
   "execution_count": 52,
   "metadata": {},
   "outputs": [],
   "source": [
    "data_dict = {\"Date\":Date, \"Title\":Title, \"Description\":Description}"
   ]
  },
  {
   "cell_type": "code",
   "execution_count": 53,
   "metadata": {},
   "outputs": [],
   "source": [
    "data_df = pd.DataFrame(data_dict)"
   ]
  },
  {
   "cell_type": "code",
   "execution_count": 54,
   "metadata": {},
   "outputs": [],
   "source": [
    "data_df.to_csv(\"IndianFinancialNews.csv\")"
   ]
  },
  {
   "cell_type": "code",
   "execution_count": 55,
   "metadata": {},
   "outputs": [
    {
     "data": {
      "text/html": [
       "<div>\n",
       "<style scoped>\n",
       "    .dataframe tbody tr th:only-of-type {\n",
       "        vertical-align: middle;\n",
       "    }\n",
       "\n",
       "    .dataframe tbody tr th {\n",
       "        vertical-align: top;\n",
       "    }\n",
       "\n",
       "    .dataframe thead th {\n",
       "        text-align: right;\n",
       "    }\n",
       "</style>\n",
       "<table border=\"1\" class=\"dataframe\">\n",
       "  <thead>\n",
       "    <tr style=\"text-align: right;\">\n",
       "      <th></th>\n",
       "      <th>Date</th>\n",
       "      <th>Title</th>\n",
       "      <th>Description</th>\n",
       "    </tr>\n",
       "  </thead>\n",
       "  <tbody>\n",
       "    <tr>\n",
       "      <th>49995</th>\n",
       "      <td>February 11, 2003, Tuesday</td>\n",
       "      <td>Lic Mops Up Government Securities As Prices Crash</td>\n",
       "      <td>Lic Mops Up Government Securities As Prices Crash</td>\n",
       "    </tr>\n",
       "    <tr>\n",
       "      <th>49996</th>\n",
       "      <td>February 11, 2003, Tuesday</td>\n",
       "      <td>Banks Plan To Raise Lending Rates Without Alte...</td>\n",
       "      <td>Banks Plan To Raise Lending Rates Without Alte...</td>\n",
       "    </tr>\n",
       "    <tr>\n",
       "      <th>49997</th>\n",
       "      <td>February 10, 2003, Monday</td>\n",
       "      <td>Net Scheduled Inflows Of Rs 1,559.9 Crore</td>\n",
       "      <td>Net Scheduled Inflows Of Rs 1,559.9 Crore</td>\n",
       "    </tr>\n",
       "    <tr>\n",
       "      <th>49998</th>\n",
       "      <td>February 10, 2003, Monday</td>\n",
       "      <td>Rbi Calls Meet To Push Floating Rate Deposits</td>\n",
       "      <td>Rbi Calls Meet To Push Floating Rate Deposits</td>\n",
       "    </tr>\n",
       "    <tr>\n",
       "      <th>49999</th>\n",
       "      <td>February 10, 2003, Monday</td>\n",
       "      <td>Sticky Loans Divide Consortiums</td>\n",
       "      <td>Sticky Loans Divide Consortiums</td>\n",
       "    </tr>\n",
       "  </tbody>\n",
       "</table>\n",
       "</div>"
      ],
      "text/plain": [
       "                             Date  \\\n",
       "49995  February 11, 2003, Tuesday   \n",
       "49996  February 11, 2003, Tuesday   \n",
       "49997   February 10, 2003, Monday   \n",
       "49998   February 10, 2003, Monday   \n",
       "49999   February 10, 2003, Monday   \n",
       "\n",
       "                                                   Title  \\\n",
       "49995  Lic Mops Up Government Securities As Prices Crash   \n",
       "49996  Banks Plan To Raise Lending Rates Without Alte...   \n",
       "49997          Net Scheduled Inflows Of Rs 1,559.9 Crore   \n",
       "49998      Rbi Calls Meet To Push Floating Rate Deposits   \n",
       "49999                    Sticky Loans Divide Consortiums   \n",
       "\n",
       "                                             Description  \n",
       "49995  Lic Mops Up Government Securities As Prices Crash  \n",
       "49996  Banks Plan To Raise Lending Rates Without Alte...  \n",
       "49997          Net Scheduled Inflows Of Rs 1,559.9 Crore  \n",
       "49998      Rbi Calls Meet To Push Floating Rate Deposits  \n",
       "49999                    Sticky Loans Divide Consortiums  "
      ]
     },
     "execution_count": 55,
     "metadata": {},
     "output_type": "execute_result"
    }
   ],
   "source": [
    "data_df.tail()"
   ]
  },
  {
   "cell_type": "code",
   "execution_count": null,
   "metadata": {},
   "outputs": [],
   "source": []
  }
 ],
 "metadata": {
  "kernelspec": {
   "display_name": "Python 3",
   "language": "python",
   "name": "python3"
  },
  "language_info": {
   "codemirror_mode": {
    "name": "ipython",
    "version": 3
   },
   "file_extension": ".py",
   "mimetype": "text/x-python",
   "name": "python",
   "nbconvert_exporter": "python",
   "pygments_lexer": "ipython3",
   "version": "3.7.7"
  }
 },
 "nbformat": 4,
 "nbformat_minor": 4
}
